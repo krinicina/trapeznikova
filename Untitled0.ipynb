{
  "nbformat": 4,
  "nbformat_minor": 0,
  "metadata": {
    "colab": {
      "name": "Untitled0.ipynb",
      "provenance": [],
      "collapsed_sections": []
    },
    "kernelspec": {
      "name": "python3",
      "display_name": "Python 3"
    },
    "language_info": {
      "name": "python"
    }
  },
  "cells": [
    {
      "cell_type": "markdown",
      "source": [
        "Задание 1"
      ],
      "metadata": {
        "id": "C-N5OuKg-zoo"
      }
    },
    {
      "cell_type": "code",
      "source": [
        "n = float(input(\" Введите число: \"))\n",
        "square = n*n\n",
        "square\n",
        "\n"
      ],
      "metadata": {
        "colab": {
          "base_uri": "https://localhost:8080/"
        },
        "id": "tZhS3Npd-NDh",
        "outputId": "2111f174-afdb-4dce-ecaf-37e539357272"
      },
      "execution_count": 13,
      "outputs": [
        {
          "name": "stdout",
          "output_type": "stream",
          "text": [
            " Введите число: 5\n"
          ]
        },
        {
          "output_type": "execute_result",
          "data": {
            "text/plain": [
              "25.0"
            ]
          },
          "metadata": {},
          "execution_count": 13
        }
      ]
    },
    {
      "cell_type": "code",
      "source": [
        "print ('Квадрат числа равен: n')\n"
      ],
      "metadata": {
        "colab": {
          "base_uri": "https://localhost:8080/"
        },
        "id": "iu5sDfNd-hG-",
        "outputId": "23d7c5f2-d327-4467-d08c-f52d6ec629a5"
      },
      "execution_count": 14,
      "outputs": [
        {
          "output_type": "stream",
          "name": "stdout",
          "text": [
            "Квадрат числа равен: n\n"
          ]
        }
      ]
    },
    {
      "cell_type": "code",
      "source": [
        "print ('Квадрат числа равен:', square)"
      ],
      "metadata": {
        "colab": {
          "base_uri": "https://localhost:8080/"
        },
        "id": "pJQ4Uf-W-nxu",
        "outputId": "b406a37e-9d99-4ed7-d223-5b02de679198"
      },
      "execution_count": 15,
      "outputs": [
        {
          "output_type": "stream",
          "name": "stdout",
          "text": [
            "Квадрат числа равен: 25.0\n"
          ]
        }
      ]
    },
    {
      "cell_type": "markdown",
      "source": [
        "Задание 2"
      ],
      "metadata": {
        "id": "LVt0XsIA-4WY"
      }
    },
    {
      "cell_type": "code",
      "source": [
        "n= int(input(\"Введите целое число: \"))\n",
        "a = n-1\n",
        "b = n+1\n",
        "c = [a,b]\n",
        "print (c)"
      ],
      "metadata": {
        "colab": {
          "base_uri": "https://localhost:8080/"
        },
        "id": "CHk8R0Cs-3T_",
        "outputId": "87eefe77-93c3-4981-d6cb-a0e668842acb"
      },
      "execution_count": 17,
      "outputs": [
        {
          "output_type": "stream",
          "name": "stdout",
          "text": [
            "Введите целое число: 5\n",
            "[4, 6]\n"
          ]
        }
      ]
    },
    {
      "cell_type": "markdown",
      "source": [
        "Задание 3"
      ],
      "metadata": {
        "id": "8JT_n4zi_RRB"
      }
    },
    {
      "cell_type": "code",
      "source": [
        "words = input(\"Введите слова:\")\n",
        "word = words.split()\n",
        "word_clean = [n.lower() for n in word]\n",
        "word_clean"
      ],
      "metadata": {
        "colab": {
          "base_uri": "https://localhost:8080/"
        },
        "id": "G-n6cY9H_Sq-",
        "outputId": "1ae03332-7dc3-42cb-d8d7-bc1fed672206"
      },
      "execution_count": 18,
      "outputs": [
        {
          "name": "stdout",
          "output_type": "stream",
          "text": [
            "Введите слова:В лесу родилась ёлочка В лесу она росла\n"
          ]
        },
        {
          "output_type": "execute_result",
          "data": {
            "text/plain": [
              "['в', 'лесу', 'родилась', 'ёлочка', 'в', 'лесу', 'она', 'росла']"
            ]
          },
          "metadata": {},
          "execution_count": 18
        }
      ]
    },
    {
      "cell_type": "markdown",
      "source": [
        "Задание 4"
      ],
      "metadata": {
        "id": "LUNdWJjg_veA"
      }
    },
    {
      "cell_type": "code",
      "source": [
        "numbers = input(\" Введите числа: \")\n",
        "number = numbers.split()\n",
        "numbera = []\n",
        "for n in number:\n",
        "  numbera.append(float(n))\n",
        "from math import log\n",
        "L = numbera\n",
        "L1 = []\n",
        "for i in L:\n",
        "  L1.append(log(i)) if i > 0 else L1.append('NONE')\n",
        "for i in L1:\n",
        "  print(i)"
      ],
      "metadata": {
        "colab": {
          "base_uri": "https://localhost:8080/"
        },
        "id": "POG4Fx61_woI",
        "outputId": "f1692759-6304-4c20-a0c9-71b11584af89"
      },
      "execution_count": 42,
      "outputs": [
        {
          "output_type": "stream",
          "name": "stdout",
          "text": [
            " Введите числа: -5 6 3 0 2.8\n",
            "NONE\n",
            "1.791759469228055\n",
            "1.0986122886681098\n",
            "NONE\n",
            "1.0296194171811581\n"
          ]
        }
      ]
    },
    {
      "cell_type": "markdown",
      "source": [
        "Задание 5"
      ],
      "metadata": {
        "id": "r-nVvcAnKIYk"
      }
    },
    {
      "cell_type": "code",
      "source": [
        "a = input(\"Введите имена: \")\n",
        "b = input(\"Введите возрасты: \")\n",
        "ac = a.split()\n",
        "bc = b.split()\n",
        "result = [list(tup) for tup in zip(ac, bc)]\n",
        "print(result) if len(ac) == len(bc) else print('Списки имеют разную длину')"
      ],
      "metadata": {
        "id": "oH_HoeS8KH7b"
      },
      "execution_count": null,
      "outputs": []
    },
    {
      "cell_type": "markdown",
      "source": [
        "Задание 6"
      ],
      "metadata": {
        "id": "w_STQchHEFbo"
      }
    },
    {
      "cell_type": "code",
      "source": [
        "numbers = input(\"Введите числа: \")\n",
        "number = numbers.split()\n",
        "a = number\n",
        "print(a)\n",
        "a.sort()\n",
        "print(a)"
      ],
      "metadata": {
        "colab": {
          "base_uri": "https://localhost:8080/"
        },
        "id": "QEPRexYcEFoa",
        "outputId": "503555bc-b9e5-4f73-943a-476cc6e97123"
      },
      "execution_count": 44,
      "outputs": [
        {
          "output_type": "stream",
          "name": "stdout",
          "text": [
            "Введите числа: 5, 7, -2, 0, 9, -3, 8\n",
            "['5,', '7,', '-2,', '0,', '9,', '-3,', '8']\n",
            "['-2,', '-3,', '0,', '5,', '7,', '8', '9,']\n"
          ]
        }
      ]
    }
  ]
}